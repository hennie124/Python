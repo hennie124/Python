{
 "cells": [
  {
   "cell_type": "markdown",
   "id": "3f469d9c",
   "metadata": {},
   "source": [
    "## range함수\n",
    "\n",
    "range(시작숫자 , 끝 숫자, 증가값)"
   ]
  },
  {
   "cell_type": "code",
   "execution_count": 1,
   "id": "a2d7a1c9",
   "metadata": {},
   "outputs": [
    {
     "data": {
      "text/plain": [
       "range(1, 11)"
      ]
     },
     "execution_count": 1,
     "metadata": {},
     "output_type": "execute_result"
    }
   ],
   "source": [
    "var = range(1,11)\n",
    "var"
   ]
  },
  {
   "cell_type": "code",
   "execution_count": 2,
   "id": "9bd7066d",
   "metadata": {},
   "outputs": [
    {
     "data": {
      "text/plain": [
       "[1, 2, 3, 4, 5, 6, 7, 8, 9, 10]"
      ]
     },
     "execution_count": 2,
     "metadata": {},
     "output_type": "execute_result"
    }
   ],
   "source": [
    "# range의 범위를 list로 출력\n",
    "\n",
    "list(range(1,11))"
   ]
  },
  {
   "cell_type": "code",
   "execution_count": 3,
   "id": "1ace42a9",
   "metadata": {},
   "outputs": [
    {
     "data": {
      "text/plain": [
       "[0, 2, 4, 6, 8, 10]"
      ]
     },
     "execution_count": 3,
     "metadata": {},
     "output_type": "execute_result"
    }
   ],
   "source": [
    "list(range(0,11,2))"
   ]
  },
  {
   "cell_type": "code",
   "execution_count": 5,
   "id": "4856521f",
   "metadata": {},
   "outputs": [
    {
     "data": {
      "text/plain": [
       "[10, 8, 6, 4, 2]"
      ]
     },
     "execution_count": 5,
     "metadata": {},
     "output_type": "execute_result"
    }
   ],
   "source": [
    "list(range(10,0,-2))"
   ]
  },
  {
   "cell_type": "code",
   "execution_count": 9,
   "id": "6fe8d1c7",
   "metadata": {},
   "outputs": [
    {
     "data": {
      "text/plain": [
       "[]"
      ]
     },
     "execution_count": 9,
     "metadata": {},
     "output_type": "execute_result"
    }
   ],
   "source": [
    "list(range(0,10,-2))"
   ]
  },
  {
   "cell_type": "code",
   "execution_count": 11,
   "id": "dfa89fe2",
   "metadata": {},
   "outputs": [
    {
     "data": {
      "text/plain": [
       "10"
      ]
     },
     "execution_count": 11,
     "metadata": {},
     "output_type": "execute_result"
    }
   ],
   "source": [
    "# var[7:9]\n",
    "var[9]"
   ]
  },
  {
   "cell_type": "code",
   "execution_count": 7,
   "id": "2e17c17e",
   "metadata": {},
   "outputs": [
    {
     "data": {
      "text/plain": [
       "range"
      ]
     },
     "execution_count": 7,
     "metadata": {},
     "output_type": "execute_result"
    }
   ],
   "source": [
    "type(var)"
   ]
  },
  {
   "cell_type": "markdown",
   "id": "762d44db",
   "metadata": {},
   "source": [
    "# for문에 range함수 사용하기"
   ]
  },
  {
   "cell_type": "code",
   "execution_count": 12,
   "id": "5e863214",
   "metadata": {},
   "outputs": [
    {
     "name": "stdout",
     "output_type": "stream",
     "text": [
      "1\n",
      "2\n",
      "3\n",
      "4\n",
      "5\n",
      "6\n",
      "7\n",
      "8\n",
      "9\n",
      "10\n"
     ]
    }
   ],
   "source": [
    "for i in range(1,11):\n",
    "    print(i)"
   ]
  },
  {
   "cell_type": "code",
   "execution_count": 13,
   "id": "00565138",
   "metadata": {},
   "outputs": [
    {
     "name": "stdout",
     "output_type": "stream",
     "text": [
      "0\n",
      "1\n",
      "2\n",
      "3\n",
      "4\n"
     ]
    }
   ],
   "source": [
    "for i in range(5):\n",
    "    print(i)"
   ]
  },
  {
   "cell_type": "code",
   "execution_count": 15,
   "id": "c5ec88fb",
   "metadata": {},
   "outputs": [
    {
     "name": "stdout",
     "output_type": "stream",
     "text": [
      "1\n",
      "3\n",
      "5\n",
      "7\n",
      "9\n"
     ]
    }
   ],
   "source": [
    "#1부터 10까지의 수중 홀수만 출력하기\n",
    "for i in range(1,11,2):\n",
    "    print(i)"
   ]
  },
  {
   "cell_type": "code",
   "execution_count": 36,
   "id": "241e81b2",
   "metadata": {},
   "outputs": [
    {
     "name": "stdout",
     "output_type": "stream",
     "text": [
      "9 X 1 =  9\n",
      "9 X 2 = 18\n",
      "9 X 3 = 27\n",
      "9 X 4 = 36\n",
      "9 X 5 = 45\n",
      "9 X 6 = 54\n",
      "9 X 7 = 63\n",
      "9 X 8 = 72\n",
      "9 X 9 = 81\n"
     ]
    }
   ],
   "source": [
    "#구구단 9단 출력\n",
    "for i in range(1,10):\n",
    "    j = 9\n",
    "    # for j in range(1,10):\n",
    "        #print(i,\"X\",j,'=','%2d'%(i*j))\n",
    "    print(j,\"X\",i,'=','%2d'%(j*i))"
   ]
  },
  {
   "cell_type": "code",
   "execution_count": 39,
   "id": "4b3d22a9",
   "metadata": {},
   "outputs": [
    {
     "name": "stdout",
     "output_type": "stream",
     "text": [
      "aaa bbb\n"
     ]
    }
   ],
   "source": [
    "print('aaa', end = ' ')\n",
    "print('bbb')"
   ]
  },
  {
   "cell_type": "code",
   "execution_count": 57,
   "id": "3ca1a313",
   "metadata": {},
   "outputs": [
    {
     "name": "stdout",
     "output_type": "stream",
     "text": [
      "\n",
      " 2  4  6  8 10 12 14 16 18 \n",
      " 3  6  9 12 15 18 21 24 27 \n",
      " 4  8 12 16 20 24 28 32 36 \n",
      " 5 10 15 20 25 30 35 40 45 \n",
      " 6 12 18 24 30 36 42 48 54 \n",
      " 7 14 21 28 35 42 49 56 63 \n",
      " 8 16 24 32 40 48 56 64 72 \n",
      " 9 18 27 36 45 54 63 72 81 "
     ]
    }
   ],
   "source": [
    "#구구단 결과만 출력\n",
    "for i in range(2,10):\n",
    "    print( )\n",
    "    for j in range(1,10):\n",
    "        print('%2d'%(i*j), end = ' ')"
   ]
  },
  {
   "cell_type": "markdown",
   "id": "e72ee36a",
   "metadata": {},
   "source": [
    "## for문에 List 사용하기"
   ]
  },
  {
   "cell_type": "code",
   "execution_count": 58,
   "id": "9ecf29f6",
   "metadata": {},
   "outputs": [
    {
     "name": "stdout",
     "output_type": "stream",
     "text": [
      "one\n",
      "two\n",
      "three\n"
     ]
    }
   ],
   "source": [
    "test_list = ['one','two','three']\n",
    "#print(test_list)\n",
    "\n",
    "for i in test_list:\n",
    "    print(i)"
   ]
  },
  {
   "cell_type": "code",
   "execution_count": 59,
   "id": "a4dcbc19",
   "metadata": {},
   "outputs": [
    {
     "name": "stdout",
     "output_type": "stream",
     "text": [
      "80.75\n"
     ]
    }
   ],
   "source": [
    "#평균 구하기\n",
    "scores = [78,85,95,65]\n",
    "total = 0\n",
    "\n",
    "for score in scores:\n",
    "    total += score\n",
    "    \n",
    "    \n",
    "print(total / len(scores))"
   ]
  },
  {
   "cell_type": "markdown",
   "id": "7960137f",
   "metadata": {},
   "source": [
    "## for문에 Tuple 사용하기"
   ]
  },
  {
   "cell_type": "code",
   "execution_count": 60,
   "id": "34f56fe0",
   "metadata": {},
   "outputs": [
    {
     "name": "stdout",
     "output_type": "stream",
     "text": [
      "1 : 2\n",
      "3 : 4\n",
      "5 : 6\n"
     ]
    }
   ],
   "source": [
    "var = [(1,2),(3,4),(5,6)]\n",
    "\n",
    "for first, last in var:\n",
    "    print(first,\":\",last)"
   ]
  },
  {
   "cell_type": "code",
   "execution_count": 61,
   "id": "483cccf3",
   "metadata": {},
   "outputs": [
    {
     "name": "stdout",
     "output_type": "stream",
     "text": [
      "21\n"
     ]
    }
   ],
   "source": [
    "sum1 = 0\n",
    "for first, last in var:\n",
    "    sum1 += first + last\n",
    "    \n",
    "print(sum1)    "
   ]
  },
  {
   "cell_type": "markdown",
   "id": "b698993a",
   "metadata": {},
   "source": [
    "총 5명의 학생이 시험을 보았는데, 시험점수가 60점을 넘으면 합격, 그렇지 않으면 불합격이다. 이 때, 합격과 불합격 결과 보여주기"
   ]
  },
  {
   "cell_type": "code",
   "execution_count": 87,
   "id": "599e3e72",
   "metadata": {},
   "outputs": [
    {
     "name": "stdout",
     "output_type": "stream",
     "text": [
      "1 의 학생은 합격입니다.\n",
      "2 의 학생은 불합격입니다.\n",
      "3 의 학생은 합격입니다.\n",
      "4 의 학생은 불합격입니다.\n",
      "5 의 학생은 합격입니다.\n"
     ]
    }
   ],
   "source": [
    "scores = [90,25,65,42,80]\n",
    "for number in range(len(scores)):\n",
    "    #print(number)\n",
    "    if scores[number]>=60:\n",
    "        print(number+1,'의 학생은 합격입니다.')\n",
    "    else:\n",
    "        print(number+1,'의 학생은 불합격입니다.')"
   ]
  },
  {
   "cell_type": "code",
   "execution_count": 109,
   "id": "8793f786",
   "metadata": {},
   "outputs": [
    {
     "name": "stdout",
     "output_type": "stream",
     "text": [
      "1 의 학생은 합격입니다.\n",
      "2 의 학생은 불합격입니다.\n",
      "3 의 학생은 합격입니다.\n",
      "4 의 학생은 불합격입니다.\n",
      "5 의 학생은 합격입니다.\n"
     ]
    }
   ],
   "source": [
    "scores = [90,25,65,42,80]\n",
    "number = 1\n",
    "for score in scores:\n",
    "        if score >= 60:\n",
    "            print(number,'의 학생은 합격입니다.')\n",
    "            number += 1\n",
    "        else:\n",
    "            print(number,'의 학생은 불합격입니다.')\n",
    "            number += 1"
   ]
  },
  {
   "cell_type": "code",
   "execution_count": 110,
   "id": "8cbe6f10",
   "metadata": {},
   "outputs": [
    {
     "name": "stdout",
     "output_type": "stream",
     "text": [
      "1 의 학생은 점수가 90 이므로 합격입니다.\n",
      "2 의 학생은 점수가 25 이므로 불합격입니다.\n",
      "3 의 학생은 점수가 65 이므로 합격입니다.\n",
      "4 의 학생은 점수가 42 이므로 불합격입니다.\n",
      "5 의 학생은 점수가 80 이므로 합격입니다.\n"
     ]
    }
   ],
   "source": [
    "scores = [90,25,65,42,80]\n",
    "number = 1\n",
    "for score in scores:\n",
    "        if score >= 60:\n",
    "            print(number,'의 학생은 점수가',score,'이므로 합격입니다.')\n",
    "            number += 1\n",
    "        else:\n",
    "            print(number,'의 학생은 점수가',score,'이므로 불합격입니다.')\n",
    "            number += 1"
   ]
  },
  {
   "cell_type": "markdown",
   "id": "f296e355",
   "metadata": {},
   "source": [
    "학생들 점수의 평균을 구하여 평균점수 기준으로 합격,불합격 보여주기"
   ]
  },
  {
   "cell_type": "code",
   "execution_count": 114,
   "id": "2e070ece",
   "metadata": {},
   "outputs": [
    {
     "name": "stdout",
     "output_type": "stream",
     "text": [
      "학급의 평균점수는 60.4 입니다.\n",
      "학급의 점수 총점은 302 입니다.\n",
      "1 의 학생은 점수가 90 이므로 합격입니다.\n",
      "2 의 학생은 점수가 25 이므로 불합격입니다.\n",
      "3 의 학생은 점수가 65 이므로 합격입니다.\n",
      "4 의 학생은 점수가 42 이므로 불합격입니다.\n",
      "5 의 학생은 점수가 80 이므로 합격입니다.\n"
     ]
    }
   ],
   "source": [
    "scores = [90,25,65,42,80]\n",
    "number = 1\n",
    "avg = 0.0\n",
    "total = 0\n",
    "import numpy as np\n",
    "np.sum(scores)\n",
    "total = np.sum(scores)\n",
    "import numpy as np\n",
    "np.mean(scores)\n",
    "avg = np.mean(scores)\n",
    "print('학급의 평균점수는',avg,'입니다.')\n",
    "print('학급의 점수 총점은',total,'입니다.')\n",
    "for score in scores:\n",
    "        if score >= 60:\n",
    "            print(number,'의 학생은 점수가',score,'이므로 합격입니다.')\n",
    "            number += 1\n",
    "        else:\n",
    "            print(number,'의 학생은 점수가',score,'이므로 불합격입니다.')\n",
    "            number += 1            "
   ]
  },
  {
   "cell_type": "code",
   "execution_count": 115,
   "id": "6172e5ae",
   "metadata": {},
   "outputs": [
    {
     "name": "stdout",
     "output_type": "stream",
     "text": [
      "[5, 10, 15, 20]\n"
     ]
    }
   ],
   "source": [
    "var01 = [1,2,3,4]\n",
    "var02 = []\n",
    "\n",
    "for i in var01:\n",
    "    var02.append(i*5)\n",
    "    \n",
    "print(var02)    "
   ]
  },
  {
   "cell_type": "markdown",
   "id": "66676a0a",
   "metadata": {},
   "source": [
    "## 파이썬의 listed for문"
   ]
  },
  {
   "cell_type": "code",
   "execution_count": 117,
   "id": "56f35230",
   "metadata": {},
   "outputs": [
    {
     "data": {
      "text/plain": [
       "[5, 10, 15, 20]"
      ]
     },
     "execution_count": 117,
     "metadata": {},
     "output_type": "execute_result"
    }
   ],
   "source": [
    "var01 = [1,2,3,4]\n",
    "var02 = []\n",
    "\n",
    "var02 = [i * 5 for i in var01]\n",
    "var02"
   ]
  },
  {
   "cell_type": "code",
   "execution_count": 140,
   "id": "2643dd98",
   "metadata": {},
   "outputs": [
    {
     "data": {
      "text/plain": [
       "[10, 20]"
      ]
     },
     "execution_count": 140,
     "metadata": {},
     "output_type": "execute_result"
    }
   ],
   "source": [
    "#위의 소스에서 짝수인 경우에만 5를 곱하는 리스트 만들기\n",
    "var01 = [1,2,3,4]\n",
    "var02 = []\n",
    "\n",
    "var02 = [i * 5 for i in var01 if i % 2 == 0]\n",
    "var02"
   ]
  },
  {
   "cell_type": "code",
   "execution_count": 154,
   "id": "93b54890",
   "metadata": {},
   "outputs": [
    {
     "name": "stdout",
     "output_type": "stream",
     "text": [
      "[2, 4, 6, 8, 10, 12, 14, 16, 18, 3, 6, 9, 12, 15, 18, 21, 24, 27, 4, 8, 12, 16, 20, 24, 28, 32, 36, 5, 10, 15, 20, 25, 30, 35, 40, 45, 6, 12, 18, 24, 30, 36, 42, 48, 54, 7, 14, 21, 28, 35, 42, 49, 56, 63, 8, 16, 24, 32, 40, 48, 56, 64, 72, 9, 18, 27, 36, 45, 54, 63, 72, 81]\n"
     ]
    }
   ],
   "source": [
    "#구구단 결과만 리스트로 만들기(2~9단)\n",
    "\n",
    "# 이 방법이 아니라 밑의 result 를 이용하면 더 간편하다!! 조금 더 짧은 코드를 쓰게 하는 것이 중요!!\n",
    "# var01 = [1,2,3,4,5,6,7,8,9]\n",
    "# var02 = [1,2,3,4,5,6,7,8,9]\n",
    "# var03 = []\n",
    "\n",
    "# var03 = [i * j for i in var01 for j in var02]\n",
    "# print(var03, end=' ')\n",
    "result = [i * j for i in range(2,10) for j in range(1,10)]\n",
    "print(result)"
   ]
  },
  {
   "cell_type": "code",
   "execution_count": 171,
   "id": "64d8233a",
   "metadata": {},
   "outputs": [
    {
     "name": "stdout",
     "output_type": "stream",
     "text": [
      "합격한 학생들의 평균점수는 79.00입니다.\n"
     ]
    }
   ],
   "source": [
    "#60점 이상의 학생점수만 List로 만들어서 평균 구하기 \n",
    "scores = [90,25,67,45,80]\n",
    "passList = [i for i in scores if i>=60]\n",
    "print(\"합격한 학생들의 평균점수는 %.2f입니다.\"%np.mean(passList))"
   ]
  },
  {
   "cell_type": "code",
   "execution_count": null,
   "id": "6766d903",
   "metadata": {},
   "outputs": [],
   "source": []
  },
  {
   "cell_type": "code",
   "execution_count": null,
   "id": "f4d41847",
   "metadata": {},
   "outputs": [],
   "source": []
  },
  {
   "cell_type": "code",
   "execution_count": null,
   "id": "789c62a2",
   "metadata": {},
   "outputs": [],
   "source": []
  },
  {
   "cell_type": "code",
   "execution_count": null,
   "id": "c5d62179",
   "metadata": {},
   "outputs": [],
   "source": []
  },
  {
   "cell_type": "code",
   "execution_count": null,
   "id": "6ac54b04",
   "metadata": {},
   "outputs": [],
   "source": []
  }
 ],
 "metadata": {
  "kernelspec": {
   "display_name": "Python 3",
   "language": "python",
   "name": "python3"
  },
  "language_info": {
   "codemirror_mode": {
    "name": "ipython",
    "version": 3
   },
   "file_extension": ".py",
   "mimetype": "text/x-python",
   "name": "python",
   "nbconvert_exporter": "python",
   "pygments_lexer": "ipython3",
   "version": "3.8.8"
  }
 },
 "nbformat": 4,
 "nbformat_minor": 5
}
