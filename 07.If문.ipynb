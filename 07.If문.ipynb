{
 "cells": [
  {
   "cell_type": "code",
   "execution_count": 1,
   "id": "2ed7ebec",
   "metadata": {},
   "outputs": [],
   "source": [
    "from random import randint"
   ]
  },
  {
   "cell_type": "code",
   "execution_count": 2,
   "id": "3193aa62",
   "metadata": {},
   "outputs": [
    {
     "name": "stdout",
     "output_type": "stream",
     "text": [
      "57 is greater than 50\n",
      "---end---\n"
     ]
    }
   ],
   "source": [
    "#if\n",
    "x = randint(1,100)\n",
    "if x > 50 :\n",
    "    print(str(x), \"is greater than 50\")\n",
    "    \n",
    "print(\"---end---\")    "
   ]
  },
  {
   "cell_type": "code",
   "execution_count": 3,
   "id": "44033aea",
   "metadata": {},
   "outputs": [
    {
     "name": "stdout",
     "output_type": "stream",
     "text": [
      "77 is greater than 50\n",
      "---end---\n"
     ]
    }
   ],
   "source": [
    "#if else\n",
    "x = randint(1,100)\n",
    "if x > 50 :\n",
    "    print(str(x), \"is greater than 50\")\n",
    "    \n",
    "else:\n",
    "    print(str(x),\"is less or equal to 50\")\n",
    "    \n",
    "print(\"---end---\")    "
   ]
  },
  {
   "cell_type": "code",
   "execution_count": 4,
   "id": "6e89d425",
   "metadata": {},
   "outputs": [
    {
     "name": "stdout",
     "output_type": "stream",
     "text": [
      "15 is less than 50\n",
      "---end---\n"
     ]
    }
   ],
   "source": [
    "#if elif else\n",
    "x = randint(1,100)\n",
    "if x > 50 :\n",
    "    print(str(x), \"is greater than 50\")\n",
    "\n",
    "elif x == 50 :\n",
    "    print(str(x),\"is equal to 50\")\n",
    "    \n",
    "else:\n",
    "    print(str(x),\"is less than 50\")\n",
    "    \n",
    "print(\"---end---\")    "
   ]
  },
  {
   "cell_type": "code",
   "execution_count": 5,
   "id": "7e54c06e",
   "metadata": {},
   "outputs": [
    {
     "name": "stdout",
     "output_type": "stream",
     "text": [
      "숫자를 입력하세요12\n",
      "12 는 짝수입니다.\n"
     ]
    }
   ],
   "source": [
    "x = int(input(\"숫자를 입력하세요\"))\n",
    "if x%2==0 :\n",
    "    print(str(x),\"는 짝수입니다.\")\n",
    "else :\n",
    "    print(str(x),\"는 홀수입니다.\")"
   ]
  },
  {
   "cell_type": "code",
   "execution_count": 6,
   "id": "47043b30",
   "metadata": {},
   "outputs": [
    {
     "name": "stdout",
     "output_type": "stream",
     "text": [
      "점수를 입력하세요99\n",
      "점수는  99 점이고 A학점입니다.\n"
     ]
    }
   ],
   "source": [
    "#사용자로 부터 점수를 입력받아 학점 등급을 계산하여 출력하기\n",
    "#예) 점수는 89점이고 B학점입니다.\n",
    "\n",
    "x = int(input(\"점수를 입력하세요\"))\n",
    "\n",
    "if x> 100 :\n",
    "    print(\"잘못 입력하셨습니다.\")\n",
    "elif x>=90 :\n",
    "    print(\"점수는 \",str(x),\"점이고 A학점입니다.\")\n",
    "elif x>=80:\n",
    "    print(\"점수는 \",str(x),\"점이고 B학점입니다.\")\n",
    "elif x>=70:\n",
    "    print(\"점수는 \",str(x),\"점이고 C학점입니다.\")\n",
    "elif x>=60:\n",
    "    print(\"점수는 \",str(x),\"점이고 D학점입니다.\")\n",
    "elif x>=0:\n",
    "    print(\"점수는 \",str(x),\"점이고 F학점입니다.\")\n",
    "else :\n",
    "    print(\"잘못 입력하셨습니다.\")\n",
    "    \n",
    "    \n"
   ]
  },
  {
   "cell_type": "code",
   "execution_count": 12,
   "id": "3c4900df",
   "metadata": {},
   "outputs": [
    {
     "name": "stdout",
     "output_type": "stream",
     "text": [
      "신용카드로 택시타기\n"
     ]
    }
   ],
   "source": [
    "#파이썬에서 0은 false\n",
    "pocket = ['paper','smartphone']\n",
    "card = 3\n",
    "\n",
    "if'money' in pocket:\n",
    "    print(\"현금으로 택시타기\")\n",
    "elif card:\n",
    "    print(\"신용카드로 택시타기\")\n",
    "else:\n",
    "    print('튼튼한 다리를 사용!')"
   ]
  },
  {
   "cell_type": "code",
   "execution_count": null,
   "id": "267f7e2d",
   "metadata": {},
   "outputs": [],
   "source": []
  },
  {
   "cell_type": "code",
   "execution_count": null,
   "id": "58218159",
   "metadata": {},
   "outputs": [],
   "source": []
  },
  {
   "cell_type": "code",
   "execution_count": null,
   "id": "cfa927c4",
   "metadata": {},
   "outputs": [],
   "source": []
  },
  {
   "cell_type": "code",
   "execution_count": null,
   "id": "b82d1f30",
   "metadata": {},
   "outputs": [],
   "source": []
  },
  {
   "cell_type": "code",
   "execution_count": null,
   "id": "be53e673",
   "metadata": {},
   "outputs": [],
   "source": []
  },
  {
   "cell_type": "code",
   "execution_count": null,
   "id": "f72a57f2",
   "metadata": {},
   "outputs": [],
   "source": []
  },
  {
   "cell_type": "code",
   "execution_count": null,
   "id": "ee8bcc33",
   "metadata": {},
   "outputs": [],
   "source": []
  },
  {
   "cell_type": "code",
   "execution_count": null,
   "id": "d8b0d5d6",
   "metadata": {},
   "outputs": [],
   "source": []
  }
 ],
 "metadata": {
  "kernelspec": {
   "display_name": "Python 3",
   "language": "python",
   "name": "python3"
  },
  "language_info": {
   "codemirror_mode": {
    "name": "ipython",
    "version": 3
   },
   "file_extension": ".py",
   "mimetype": "text/x-python",
   "name": "python",
   "nbconvert_exporter": "python",
   "pygments_lexer": "ipython3",
   "version": "3.8.8"
  }
 },
 "nbformat": 4,
 "nbformat_minor": 5
}
