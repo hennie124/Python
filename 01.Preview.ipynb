{
 "cells": [
  {
   "cell_type": "markdown",
   "id": "9204ed8e",
   "metadata": {},
   "source": [
    "# Python 기초\n",
    "\n",
    "## 사칙연산"
   ]
  },
  {
   "cell_type": "markdown",
   "id": "90d0f138",
   "metadata": {},
   "source": [
    "---"
   ]
  },
  {
   "cell_type": "code",
   "execution_count": 3,
   "id": "f9fd98f2",
   "metadata": {},
   "outputs": [
    {
     "data": {
      "text/plain": [
       "5"
      ]
     },
     "execution_count": 3,
     "metadata": {},
     "output_type": "execute_result"
    }
   ],
   "source": [
    "#덧셈\n",
    "\n",
    "2 + 3"
   ]
  },
  {
   "cell_type": "code",
   "execution_count": 4,
   "id": "b15528ac",
   "metadata": {},
   "outputs": [
    {
     "data": {
      "text/plain": [
       "3"
      ]
     },
     "execution_count": 4,
     "metadata": {},
     "output_type": "execute_result"
    }
   ],
   "source": [
    "#뺄셈\n",
    "\n",
    "5 - 2"
   ]
  },
  {
   "cell_type": "code",
   "execution_count": 5,
   "id": "ca5470d8",
   "metadata": {},
   "outputs": [
    {
     "data": {
      "text/plain": [
       "6"
      ]
     },
     "execution_count": 5,
     "metadata": {},
     "output_type": "execute_result"
    }
   ],
   "source": [
    "#곱셈\n",
    "\n",
    "2 * 3"
   ]
  },
  {
   "cell_type": "code",
   "execution_count": 6,
   "id": "7a95bcd8",
   "metadata": {},
   "outputs": [
    {
     "data": {
      "text/plain": [
       "1.5"
      ]
     },
     "execution_count": 6,
     "metadata": {},
     "output_type": "execute_result"
    }
   ],
   "source": [
    "#실수 나눗셈\n",
    "\n",
    "3 / 2"
   ]
  },
  {
   "cell_type": "code",
   "execution_count": 7,
   "id": "0955a0b1",
   "metadata": {},
   "outputs": [
    {
     "data": {
      "text/plain": [
       "1"
      ]
     },
     "execution_count": 7,
     "metadata": {},
     "output_type": "execute_result"
    }
   ],
   "source": [
    "#정수 나눗셈의 나머지\n",
    "\n",
    "5 % 2"
   ]
  },
  {
   "cell_type": "code",
   "execution_count": 2,
   "id": "559dac4e",
   "metadata": {},
   "outputs": [
    {
     "data": {
      "text/plain": [
       "2"
      ]
     },
     "execution_count": 2,
     "metadata": {},
     "output_type": "execute_result"
    }
   ],
   "source": [
    "# 정수 나눗셈의 몫\n",
    "\n",
    "5 // 2"
   ]
  },
  {
   "cell_type": "markdown",
   "id": "893ef4ae",
   "metadata": {},
   "source": [
    "변수에 대입하여 계산하기"
   ]
  },
  {
   "cell_type": "code",
   "execution_count": 8,
   "id": "b54b01f7",
   "metadata": {},
   "outputs": [
    {
     "data": {
      "text/plain": [
       "7"
      ]
     },
     "execution_count": 8,
     "metadata": {},
     "output_type": "execute_result"
    }
   ],
   "source": [
    "#변수에 정수를 할당하여 계산하기\n",
    "\n",
    "var_1 = 2\n",
    "var_2 = 5\n",
    "var_1 + var_2"
   ]
  },
  {
   "cell_type": "code",
   "execution_count": 9,
   "id": "41c81b59",
   "metadata": {},
   "outputs": [
    {
     "data": {
      "text/plain": [
       "'python'"
      ]
     },
     "execution_count": 9,
     "metadata": {},
     "output_type": "execute_result"
    }
   ],
   "source": [
    "#동일한 변수에 문자열을 할당하여 출력하기\n",
    "\n",
    "var_1 = \"python\"\n",
    "var_1"
   ]
  },
  {
   "cell_type": "markdown",
   "id": "687265ba",
   "metadata": {},
   "source": [
    "### 변수의 자료형은 데이터형을 유추하여 자료형이 변경된다."
   ]
  },
  {
   "cell_type": "markdown",
   "id": "572e7e34",
   "metadata": {},
   "source": [
    "----"
   ]
  },
  {
   "cell_type": "markdown",
   "id": "0d792740",
   "metadata": {},
   "source": [
    "# 조건문"
   ]
  },
  {
   "cell_type": "code",
   "execution_count": 11,
   "id": "22d13b34",
   "metadata": {},
   "outputs": [
    {
     "name": "stdout",
     "output_type": "stream",
     "text": [
      "var_1 is greater than 3\n"
     ]
    }
   ],
   "source": [
    "var_1 = 3\n",
    "\n",
    "if var_1 > 1:\n",
    "    print('var_1 is greater than 3')\n",
    "    \n",
    "    "
   ]
  },
  {
   "cell_type": "code",
   "execution_count": 12,
   "id": "dd153158",
   "metadata": {},
   "outputs": [
    {
     "name": "stdout",
     "output_type": "stream",
     "text": [
      "var_1 is greater than var_2\n"
     ]
    }
   ],
   "source": [
    "var_1 = 4\n",
    "var_2 = 3\n",
    "\n",
    "if var_1 > var_2:\n",
    "    print('var_1 is greater than var_2')"
   ]
  },
  {
   "cell_type": "markdown",
   "id": "63bb9e90",
   "metadata": {},
   "source": [
    "# 반복문"
   ]
  },
  {
   "cell_type": "code",
   "execution_count": 14,
   "id": "729d6244",
   "metadata": {},
   "outputs": [
    {
     "name": "stdout",
     "output_type": "stream",
     "text": [
      "10\n",
      "20\n",
      "30\n"
     ]
    }
   ],
   "source": [
    "for i in [10 , 20, 30]:\n",
    "    print(i)"
   ]
  },
  {
   "cell_type": "code",
   "execution_count": 18,
   "id": "b6e46b2a",
   "metadata": {},
   "outputs": [
    {
     "name": "stdout",
     "output_type": "stream",
     "text": [
      "10\n",
      "20\n",
      "30\n"
     ]
    }
   ],
   "source": [
    "data = [10,20,30]\n",
    "for i in data:\n",
    "    print(i)"
   ]
  },
  {
   "cell_type": "code",
   "execution_count": 17,
   "id": "d9b65cb3",
   "metadata": {},
   "outputs": [
    {
     "name": "stdout",
     "output_type": "stream",
     "text": [
      "10\n",
      "20\n",
      "30\n"
     ]
    }
   ],
   "source": [
    "i = 0\n",
    "while i < 30:\n",
    "    i+=10\n",
    "    print(i)"
   ]
  },
  {
   "cell_type": "markdown",
   "id": "4e1909df",
   "metadata": {},
   "source": [
    "---"
   ]
  },
  {
   "cell_type": "markdown",
   "id": "f28d948b",
   "metadata": {},
   "source": [
    "# 함수"
   ]
  },
  {
   "cell_type": "code",
   "execution_count": 24,
   "id": "52de8d5b",
   "metadata": {},
   "outputs": [],
   "source": [
    "def sumF(var01,var02):\n",
    "    return var01 + var02"
   ]
  },
  {
   "cell_type": "code",
   "execution_count": 25,
   "id": "7c02af65",
   "metadata": {},
   "outputs": [
    {
     "data": {
      "text/plain": [
       "30"
      ]
     },
     "execution_count": 25,
     "metadata": {},
     "output_type": "execute_result"
    }
   ],
   "source": [
    "sumF(10, 20)"
   ]
  },
  {
   "cell_type": "code",
   "execution_count": 30,
   "id": "a5cd2777",
   "metadata": {},
   "outputs": [],
   "source": [
    "def sumF(var01,var02):\n",
    "    return var01 + var02"
   ]
  },
  {
   "cell_type": "code",
   "execution_count": 33,
   "id": "b0ea1cd1",
   "metadata": {},
   "outputs": [
    {
     "data": {
      "text/plain": [
       "'ab'"
      ]
     },
     "execution_count": 33,
     "metadata": {},
     "output_type": "execute_result"
    }
   ],
   "source": [
    "sumF('a','b')"
   ]
  },
  {
   "cell_type": "code",
   "execution_count": 34,
   "id": "bec0d63f",
   "metadata": {},
   "outputs": [
    {
     "data": {
      "text/plain": [
       "110.2"
      ]
     },
     "execution_count": 34,
     "metadata": {},
     "output_type": "execute_result"
    }
   ],
   "source": [
    "sumF(10.2 , 100)"
   ]
  },
  {
   "cell_type": "code",
   "execution_count": null,
   "id": "b5918d1b",
   "metadata": {},
   "outputs": [],
   "source": []
  }
 ],
 "metadata": {
  "kernelspec": {
   "display_name": "Python 3",
   "language": "python",
   "name": "python3"
  },
  "language_info": {
   "codemirror_mode": {
    "name": "ipython",
    "version": 3
   },
   "file_extension": ".py",
   "mimetype": "text/x-python",
   "name": "python",
   "nbconvert_exporter": "python",
   "pygments_lexer": "ipython3",
   "version": "3.8.8"
  }
 },
 "nbformat": 4,
 "nbformat_minor": 5
}
