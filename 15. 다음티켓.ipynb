{
 "cells": [
  {
   "cell_type": "code",
   "execution_count": null,
   "id": "96a0864a",
   "metadata": {},
   "outputs": [],
   "source": [
    "# from bs4 import BeautifulSoup\n",
    "# import urllib.request as req\n",
    "\n",
    "# url = \"https://movie.daum.net/ranking/boxoffice/weekly\"\n",
    "# res = req.urlopen(url)\n",
    "\n",
    "# soup = BeautifulSoup(res,\"html.parser\")\n",
    "# movie = soup.select(\"strong a\")\n",
    "# for i in movie:\n",
    "#     print(i.string) "
   ]
  },
  {
   "cell_type": "code",
   "execution_count": 25,
   "id": "d0cdb5d6",
   "metadata": {},
   "outputs": [],
   "source": [
    "from bs4 import BeautifulSoup\n",
    "from urllib.request import urlopen\n",
    "import pandas as pd"
   ]
  },
  {
   "cell_type": "code",
   "execution_count": 27,
   "id": "73d86bf8",
   "metadata": {},
   "outputs": [],
   "source": [
    "url = \"https://movie.daum.net/ranking/boxoffice/weekly\"\n",
    "page = urlopen(url)\n",
    "soup = BeautifulSoup(page, \"html.parser\")"
   ]
  },
  {
   "cell_type": "code",
   "execution_count": 28,
   "id": "4da48870",
   "metadata": {},
   "outputs": [
    {
     "name": "stdout",
     "output_type": "stream",
     "text": [
      "1 블랙 위도우\n",
      "2 발신제한\n",
      "3 크루엘라\n",
      "4 콰이어트 플레이스 2\n",
      "5 랑종\n",
      "6 루카\n",
      "7 킬러의 보디가드 2\n",
      "8 미드나이트\n",
      "9 BIFAN2021 판타스틱 단편 걸작선 1\n",
      "10 괴기맨숀\n",
      "11 컨저링3: 악마가 시켰다\n",
      "12 인 더 하이츠\n",
      "13 빛나는 순간\n",
      "14 체르노빌 1986\n",
      "15 이번엔 잘 되겠지\n"
     ]
    }
   ],
   "source": [
    "li_lists = soup.select(\"#mainContent > div > div.box_boxoffice > ol > li >div > div.thumb_cont > strong > a\")\n",
    "count  = 0\n",
    " \n",
    "titleLists = []\n",
    "countLists = []\n",
    "\n",
    "for li in li_lists:\n",
    "    count += 1\n",
    "    print(count , li.string.strip())\n",
    "    countLists.append(count)\n",
    "    titleLists.append(li.string.strip())"
   ]
  },
  {
   "cell_type": "code",
   "execution_count": 29,
   "id": "abcba2dc",
   "metadata": {},
   "outputs": [
    {
     "name": "stdout",
     "output_type": "stream",
     "text": [
      "[1, 2, 3, 4, 5, 6, 7, 8, 9, 10, 11, 12, 13, 14, 15]\n",
      "['블랙 위도우', '발신제한', '크루엘라', '콰이어트 플레이스 2', '랑종', '루카', '킬러의 보디가드 2', '미드나이트', 'BIFAN2021 판타스틱 단편 걸작선 1', '괴기맨숀', '컨저링3: 악마가 시켰다', '인 더 하이츠', '빛나는 순간', '체르노빌 1986', '이번엔 잘 되겠지']\n"
     ]
    }
   ],
   "source": [
    "print(countLists)\n",
    "print(titleLists)"
   ]
  },
  {
   "cell_type": "code",
   "execution_count": 30,
   "id": "0257fd87",
   "metadata": {
    "scrolled": true
   },
   "outputs": [],
   "source": [
    "#countLists만으로 Dataframe 생성\n",
    "\n",
    "df = pd.DataFrame(data=countLists, columns = ['Index'])\n",
    "df['Titles'] = pd.Series(titleLists)"
   ]
  },
  {
   "cell_type": "code",
   "execution_count": 31,
   "id": "307ae515",
   "metadata": {},
   "outputs": [],
   "source": [
    "#csv로 저장\n",
    "df.to_csv(\"./Data/DaumList.csv\", sep=\",\",encoding='utf-8',index=False)"
   ]
  },
  {
   "cell_type": "code",
   "execution_count": null,
   "id": "824e55b2",
   "metadata": {},
   "outputs": [],
   "source": []
  },
  {
   "cell_type": "code",
   "execution_count": null,
   "id": "deb32ee9",
   "metadata": {},
   "outputs": [],
   "source": []
  },
  {
   "cell_type": "code",
   "execution_count": null,
   "id": "e362c7fa",
   "metadata": {},
   "outputs": [],
   "source": []
  },
  {
   "cell_type": "code",
   "execution_count": null,
   "id": "8f55c2f9",
   "metadata": {},
   "outputs": [],
   "source": []
  }
 ],
 "metadata": {
  "kernelspec": {
   "display_name": "Python 3",
   "language": "python",
   "name": "python3"
  },
  "language_info": {
   "codemirror_mode": {
    "name": "ipython",
    "version": 3
   },
   "file_extension": ".py",
   "mimetype": "text/x-python",
   "name": "python",
   "nbconvert_exporter": "python",
   "pygments_lexer": "ipython3",
   "version": "3.8.8"
  }
 },
 "nbformat": 4,
 "nbformat_minor": 5
}
