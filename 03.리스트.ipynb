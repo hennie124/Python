{
 "cells": [
  {
   "cell_type": "markdown",
   "id": "889bc32a",
   "metadata": {},
   "source": [
    "# 리스트(list) 자료형\n",
    "- 숫자나 문자들의 모음을 하나의 자료형으로 표현하기 위해 사용함\n",
    "-format : listName = [e1,e2,.....]"
   ]
  },
  {
   "cell_type": "markdown",
   "id": "4041499d",
   "metadata": {},
   "source": [
    "## 리스트 자료형 선언"
   ]
  },
  {
   "cell_type": "code",
   "execution_count": 1,
   "id": "57fe1a54",
   "metadata": {},
   "outputs": [],
   "source": [
    "var01 = []\n",
    "var02 = [1,2,3]\n",
    "var03 = ['I',\"have\",'a','dream']\n",
    "var04 = [1,2,'dream','True']\n",
    "var05 = [1,2,['Dream','True']]"
   ]
  },
  {
   "cell_type": "markdown",
   "id": "d2bbb838",
   "metadata": {},
   "source": [
    "## 리스트의 indexing 과 slicing"
   ]
  },
  {
   "cell_type": "code",
   "execution_count": 5,
   "id": "bc1886b5",
   "metadata": {},
   "outputs": [
    {
     "name": "stdout",
     "output_type": "stream",
     "text": [
      "[]\n",
      "[1, 2, 3]\n",
      "['I', 'have', 'a', 'dream']\n",
      "[1, 2, 'dream', 'True']\n",
      "[1, 2, ['Dream', 'True']]\n",
      "Dream\n"
     ]
    }
   ],
   "source": [
    "print(var01)\n",
    "print(var02)\n",
    "print(var03)\n",
    "print(var04)\n",
    "print(var05)\n",
    "\n",
    "print(var05[2][0])"
   ]
  },
  {
   "cell_type": "code",
   "execution_count": 6,
   "id": "d61e32ce",
   "metadata": {},
   "outputs": [
    {
     "data": {
      "text/plain": [
       "3"
      ]
     },
     "execution_count": 6,
     "metadata": {},
     "output_type": "execute_result"
    }
   ],
   "source": [
    "#리스트의 계산\n",
    "var02[0]+var02[1]"
   ]
  },
  {
   "cell_type": "code",
   "execution_count": 18,
   "id": "1a4db724",
   "metadata": {},
   "outputs": [
    {
     "name": "stdout",
     "output_type": "stream",
     "text": [
      "Dream\n"
     ]
    }
   ],
   "source": [
    "# 3중 리스트에서 Dream만 indexing 하고 출력하기\n",
    "var = [1,2,['a','b',['Dream','True']]]\n",
    "print(var[-1][-1][0])"
   ]
  },
  {
   "cell_type": "code",
   "execution_count": 19,
   "id": "4f45a98c",
   "metadata": {},
   "outputs": [
    {
     "name": "stdout",
     "output_type": "stream",
     "text": [
      "[['a', 'b', ['Dream', 'True']]]\n"
     ]
    }
   ],
   "source": [
    "print(var[2:])"
   ]
  },
  {
   "cell_type": "markdown",
   "id": "58f1093b",
   "metadata": {},
   "source": [
    "# 리스트 연산"
   ]
  },
  {
   "cell_type": "code",
   "execution_count": 20,
   "id": "c2100133",
   "metadata": {},
   "outputs": [
    {
     "data": {
      "text/plain": [
       "[1, 2, 3, 4, 5, 6]"
      ]
     },
     "execution_count": 20,
     "metadata": {},
     "output_type": "execute_result"
    }
   ],
   "source": [
    "# 리스트의 숫자합치기\n",
    "var01 = [1,2,3]\n",
    "var02 = [4,5,6]\n",
    "var01 + var02"
   ]
  },
  {
   "cell_type": "code",
   "execution_count": 25,
   "id": "aa262eb4",
   "metadata": {},
   "outputs": [
    {
     "name": "stdout",
     "output_type": "stream",
     "text": [
      "5\n",
      "7\n",
      "9\n"
     ]
    }
   ],
   "source": [
    "# 리스트의 덧셈\n",
    "for i in range(0,3):\n",
    "    print(var01[i]+var02[i])"
   ]
  },
  {
   "cell_type": "code",
   "execution_count": 26,
   "id": "a7bd12d7",
   "metadata": {},
   "outputs": [
    {
     "data": {
      "text/plain": [
       "[1, 2, 3, 1, 2, 3, 1, 2, 3]"
      ]
     },
     "execution_count": 26,
     "metadata": {},
     "output_type": "execute_result"
    }
   ],
   "source": [
    "#리스트의 숫자 반복\n",
    "var01 * 3"
   ]
  },
  {
   "cell_type": "code",
   "execution_count": 33,
   "id": "2e705520",
   "metadata": {},
   "outputs": [
    {
     "name": "stdout",
     "output_type": "stream",
     "text": [
      "10\n",
      "20\n",
      "30\n"
     ]
    }
   ],
   "source": [
    "#리스트의 곱셈\n",
    "#var01의 Data를 10배 계산하여 출력하기\n",
    "#10\n",
    "#20\n",
    "#30\n",
    "for i in var01:\n",
    "    print(i*10)"
   ]
  },
  {
   "cell_type": "code",
   "execution_count": 35,
   "id": "acd65e6c",
   "metadata": {},
   "outputs": [
    {
     "name": "stdout",
     "output_type": "stream",
     "text": [
      "3hi!\n"
     ]
    }
   ],
   "source": [
    "#리스트의 타입 변화\n",
    "var = [1,2,3]\n",
    "print(str(var[2])+\"hi!\")"
   ]
  },
  {
   "cell_type": "code",
   "execution_count": 36,
   "id": "cfc4abb2",
   "metadata": {},
   "outputs": [
    {
     "data": {
      "text/plain": [
       "int"
      ]
     },
     "execution_count": 36,
     "metadata": {},
     "output_type": "execute_result"
    }
   ],
   "source": [
    "temp = \"123\"\n",
    "type(temp)\n",
    "temp1 = int(temp)\n",
    "type(temp1)"
   ]
  },
  {
   "cell_type": "markdown",
   "id": "ec2c4ff5",
   "metadata": {},
   "source": [
    "# 리스트 수정과 삭제"
   ]
  },
  {
   "cell_type": "code",
   "execution_count": 58,
   "id": "a4c7f20c",
   "metadata": {},
   "outputs": [
    {
     "data": {
      "text/plain": [
       "[1, 2, 4]"
      ]
     },
     "execution_count": 58,
     "metadata": {},
     "output_type": "execute_result"
    }
   ],
   "source": [
    "var = [1,2,3]\n",
    "var[2] = 4\n",
    "var"
   ]
  },
  {
   "cell_type": "code",
   "execution_count": 59,
   "id": "5099c63a",
   "metadata": {},
   "outputs": [
    {
     "data": {
      "text/plain": [
       "[1, 'a', 'b', 'c', 4]"
      ]
     },
     "execution_count": 59,
     "metadata": {},
     "output_type": "execute_result"
    }
   ],
   "source": [
    "var[1:2] = ['a','b','c']\n",
    "var\n"
   ]
  },
  {
   "cell_type": "code",
   "execution_count": 57,
   "id": "b083ed66",
   "metadata": {},
   "outputs": [
    {
     "data": {
      "text/plain": [
       "[1, 'c', 4]"
      ]
     },
     "execution_count": 57,
     "metadata": {},
     "output_type": "execute_result"
    }
   ],
   "source": [
    "#1 ~ 2 번지의 데이터를 지우기\n",
    "var[1:3] = []\n",
    "var"
   ]
  },
  {
   "cell_type": "code",
   "execution_count": 60,
   "id": "633b6554",
   "metadata": {},
   "outputs": [
    {
     "data": {
      "text/plain": [
       "[1, 'c', 4]"
      ]
     },
     "execution_count": 60,
     "metadata": {},
     "output_type": "execute_result"
    }
   ],
   "source": [
    "#1 ~ 2 번지의 데이터를 지우기\n",
    "del var[1:3]\n",
    "var"
   ]
  },
  {
   "cell_type": "code",
   "execution_count": 61,
   "id": "db0a8829",
   "metadata": {},
   "outputs": [
    {
     "data": {
      "text/plain": [
       "[1, 2, 3, 4]"
      ]
     },
     "execution_count": 61,
     "metadata": {},
     "output_type": "execute_result"
    }
   ],
   "source": [
    "# 리스트에 요소 추가\n",
    "var = [1,2,3]\n",
    "var.append(4)\n",
    "var"
   ]
  },
  {
   "cell_type": "code",
   "execution_count": 63,
   "id": "b7a7fd80",
   "metadata": {},
   "outputs": [
    {
     "data": {
      "text/plain": [
       "[1, 2, 3, 4, [5, 6]]"
      ]
     },
     "execution_count": 63,
     "metadata": {},
     "output_type": "execute_result"
    }
   ],
   "source": [
    "var.append([5,6])\n",
    "var"
   ]
  },
  {
   "cell_type": "code",
   "execution_count": 67,
   "id": "a63e7140",
   "metadata": {},
   "outputs": [
    {
     "name": "stdout",
     "output_type": "stream",
     "text": [
      "[1, 4, 2, 3]\n",
      "[1, 2, 3, 4]\n",
      "[4, 3, 2, 1]\n",
      "4\n",
      "1\n"
     ]
    }
   ],
   "source": [
    "#리스트의 정렬\n",
    "var = [1,4,2,3]\n",
    "print(var)\n",
    "\n",
    "#오름차순\n",
    "var.sort()\n",
    "print(var)\n",
    "\n",
    "#내림차순\n",
    "var.reverse()\n",
    "print(var)\n",
    "\n",
    "print(max(var))\n",
    "print(min(var))"
   ]
  },
  {
   "cell_type": "code",
   "execution_count": 69,
   "id": "4cdaa3da",
   "metadata": {},
   "outputs": [
    {
     "name": "stdout",
     "output_type": "stream",
     "text": [
      "['국', '대', '민', '한']\n",
      "['한', '민', '대', '국']\n"
     ]
    }
   ],
   "source": [
    "#리스트 문자 정렬 : 한글\n",
    "var = ['대','한','민','국']\n",
    "var.sort()\n",
    "print(var)\n",
    "var.reverse()\n",
    "print(var)"
   ]
  },
  {
   "cell_type": "code",
   "execution_count": null,
   "id": "f6226eee",
   "metadata": {},
   "outputs": [],
   "source": []
  },
  {
   "cell_type": "code",
   "execution_count": null,
   "id": "e588b6a4",
   "metadata": {},
   "outputs": [],
   "source": []
  },
  {
   "cell_type": "code",
   "execution_count": null,
   "id": "24a5ad1d",
   "metadata": {},
   "outputs": [],
   "source": []
  },
  {
   "cell_type": "code",
   "execution_count": null,
   "id": "5a66a4ea",
   "metadata": {},
   "outputs": [],
   "source": []
  }
 ],
 "metadata": {
  "kernelspec": {
   "display_name": "Python 3",
   "language": "python",
   "name": "python3"
  },
  "language_info": {
   "codemirror_mode": {
    "name": "ipython",
    "version": 3
   },
   "file_extension": ".py",
   "mimetype": "text/x-python",
   "name": "python",
   "nbconvert_exporter": "python",
   "pygments_lexer": "ipython3",
   "version": "3.8.8"
  }
 },
 "nbformat": 4,
 "nbformat_minor": 5
}
