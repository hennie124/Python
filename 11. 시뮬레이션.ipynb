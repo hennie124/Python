{
 "cells": [
  {
   "cell_type": "markdown",
   "id": "0022cd82",
   "metadata": {},
   "source": [
    "# 몬테카를로 시뮬레이션\n",
    ": 자료가 없을 경우 난수를 통해서 가설 증명"
   ]
  },
  {
   "cell_type": "markdown",
   "id": "59a79b8a",
   "metadata": {},
   "source": [
    "## 동전의 앞면과 뒷면이 나올 확률이 같다는 것을 증명"
   ]
  },
  {
   "cell_type": "code",
   "execution_count": 1,
   "id": "ae287fac",
   "metadata": {},
   "outputs": [],
   "source": [
    "# 모듈 불러오기\n",
    "import random"
   ]
  },
  {
   "cell_type": "code",
   "execution_count": 2,
   "id": "277b064d",
   "metadata": {},
   "outputs": [
    {
     "data": {
      "text/plain": [
       "9"
      ]
     },
     "execution_count": 2,
     "metadata": {},
     "output_type": "execute_result"
    }
   ],
   "source": [
    "random.randint(1,10)"
   ]
  },
  {
   "cell_type": "code",
   "execution_count": 12,
   "id": "b1444f9c",
   "metadata": {},
   "outputs": [
    {
     "name": "stdout",
     "output_type": "stream",
     "text": [
      "앞면\n"
     ]
    }
   ],
   "source": [
    "#난수를 통한 방법\n",
    "x = random.randint(1,2)\n",
    "if x == 1:\n",
    "    result = \"앞면\"\n",
    "else :\n",
    "    result = \"뒷면\"\n",
    "    \n",
    "print(result)      "
   ]
  },
  {
   "cell_type": "code",
   "execution_count": 19,
   "id": "e2568044",
   "metadata": {},
   "outputs": [],
   "source": [
    "def coinF(n):\n",
    "    coinFront = coinRear = 0\n",
    "    for i in range(1, n+1):\n",
    "        x = random.randint(1,2)\n",
    "        if x == 1:\n",
    "            coinFront += 1\n",
    "        else :\n",
    "            coinRear += 1\n",
    "            \n",
    "    print(\"%7d번 시도시 동전의 앞면은 %6d번이고 동전의 뒷면은 %6d번입니다.\"%(n,coinFront,coinRear))     \n",
    "    # print(\"%d번 시도시 동전의 앞면은 %d번이고 동전의 뒷면은 %d번입니다.\"%(n,coinFront,coinRear)) "
   ]
  },
  {
   "cell_type": "code",
   "execution_count": 20,
   "id": "54216a8b",
   "metadata": {},
   "outputs": [
    {
     "name": "stdout",
     "output_type": "stream",
     "text": [
      "10번 시도시 동전의 앞면은 3번이고 동전의 뒷면은 7번입니다.\n"
     ]
    }
   ],
   "source": [
    "coinF(10)"
   ]
  },
  {
   "cell_type": "code",
   "execution_count": 18,
   "id": "ab91c08c",
   "metadata": {},
   "outputs": [
    {
     "name": "stdout",
     "output_type": "stream",
     "text": [
      "     10번 시도시 동전의 앞면은      6번이고 동전의 뒷면은      4번입니다.\n",
      "    100번 시도시 동전의 앞면은     46번이고 동전의 뒷면은     54번입니다.\n",
      "   1000번 시도시 동전의 앞면은    502번이고 동전의 뒷면은    498번입니다.\n",
      "  10000번 시도시 동전의 앞면은   4830번이고 동전의 뒷면은   5170번입니다.\n",
      " 100000번 시도시 동전의 앞면은  49860번이고 동전의 뒷면은  50140번입니다.\n",
      "1000000번 시도시 동전의 앞면은 499844번이고 동전의 뒷면은 500156번입니다.\n",
      "10000000번 시도시 동전의 앞면은 4999699번이고 동전의 뒷면은 5000301번입니다.\n"
     ]
    }
   ],
   "source": [
    "coinF(10)\n",
    "coinF(100)\n",
    "coinF(1000)\n",
    "coinF(10000)\n",
    "coinF(100000)\n",
    "coinF(1000000)\n",
    "coinF(10000000)"
   ]
  },
  {
   "cell_type": "code",
   "execution_count": 34,
   "id": "4aef62d4",
   "metadata": {},
   "outputs": [],
   "source": [
    "# 가위, 바위, 보 게임이 이길 확률이 같다는 것을 증명\n",
    "def rock(n):\n",
    "    rockR = scissor = paper = 0\n",
    "    for i in range(1,n+1):\n",
    "        x = random.randint(1,3)\n",
    "        if x ==1:  \n",
    "            rockR+=1\n",
    "        elif x==2:\n",
    "            scissor+=1\n",
    "        else:\n",
    "            paper += 1\n",
    "    \n",
    "    print(\"%8d번 시도 시, 바위는 %7d번 이기고 가위는 %7d번 이기고 보는 %7d번 이겼습니다. \"%(n,rockR,scissor,paper))\n"
   ]
  },
  {
   "cell_type": "code",
   "execution_count": 35,
   "id": "63fd75bd",
   "metadata": {},
   "outputs": [
    {
     "name": "stdout",
     "output_type": "stream",
     "text": [
      "      10번 시도 시, 바위는       2번 이기고 가위는       2번 이기고 보는       6번 이겼습니다. \n",
      "     100번 시도 시, 바위는      40번 이기고 가위는      34번 이기고 보는      26번 이겼습니다. \n",
      "    1000번 시도 시, 바위는     323번 이기고 가위는     349번 이기고 보는     328번 이겼습니다. \n",
      "   10000번 시도 시, 바위는    3291번 이기고 가위는    3358번 이기고 보는    3351번 이겼습니다. \n",
      "  100000번 시도 시, 바위는   33068번 이기고 가위는   33478번 이기고 보는   33454번 이겼습니다. \n",
      " 1000000번 시도 시, 바위는  332459번 이기고 가위는  333880번 이기고 보는  333661번 이겼습니다. \n",
      "10000000번 시도 시, 바위는 3332677번 이기고 가위는 3332377번 이기고 보는 3334946번 이겼습니다. \n"
     ]
    }
   ],
   "source": [
    "rock(10)\n",
    "rock(100)\n",
    "rock(1000)\n",
    "rock(10000)\n",
    "rock(100000)\n",
    "rock(1000000)\n",
    "rock(10000000)"
   ]
  },
  {
   "cell_type": "code",
   "execution_count": null,
   "id": "2b5a4a54",
   "metadata": {},
   "outputs": [],
   "source": []
  },
  {
   "cell_type": "code",
   "execution_count": null,
   "id": "77c82a1b",
   "metadata": {},
   "outputs": [],
   "source": []
  },
  {
   "cell_type": "code",
   "execution_count": null,
   "id": "9a0e0f54",
   "metadata": {},
   "outputs": [],
   "source": []
  },
  {
   "cell_type": "code",
   "execution_count": null,
   "id": "6c8cdad5",
   "metadata": {},
   "outputs": [],
   "source": []
  }
 ],
 "metadata": {
  "kernelspec": {
   "display_name": "Python 3",
   "language": "python",
   "name": "python3"
  },
  "language_info": {
   "codemirror_mode": {
    "name": "ipython",
    "version": 3
   },
   "file_extension": ".py",
   "mimetype": "text/x-python",
   "name": "python",
   "nbconvert_exporter": "python",
   "pygments_lexer": "ipython3",
   "version": "3.8.8"
  }
 },
 "nbformat": 4,
 "nbformat_minor": 5
}
