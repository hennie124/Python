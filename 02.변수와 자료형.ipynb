{
 "cells": [
  {
   "cell_type": "markdown",
   "id": "76d531b9",
   "metadata": {},
   "source": [
    "# ---변수와 자료형 ---\n",
    "## 변수\n",
    "계산에 필요한 자료를 일시적으로 저장하거나 처리결과를 담을 수 있는 기억장소를 지정 해주는 역할   \n",
    "변수 이름은 값을 지정하는 메모리 영역의 이름으로 할당\n",
    "\n",
    "## 변수 이름의 작성 규칙\n",
    "- 첫자는 영문으로 시작.\n",
    "- 첫자를 제외하고 숫자, under bar,dot를 사용할 수 있음\n",
    "- 대문자와 소문자를 구분한다.\n",
    "- 변수의 이름은 의미를 파악할 수 있는 이름으로 지정하는 것이 좋음\n",
    "- 두 단어를 포함한 변수 이름을 지정할 경우 두번째 단어의 첫자는 대문자로 표시(camel method)나 under bar(snake method)로 표시하는 것이 가독성에 좋음"
   ]
  },
  {
   "cell_type": "markdown",
   "id": "e62589b2",
   "metadata": {},
   "source": [
    "# 숫자 자료형"
   ]
  },
  {
   "cell_type": "markdown",
   "id": "44d01ebb",
   "metadata": {},
   "source": [
    "-------------"
   ]
  },
  {
   "cell_type": "code",
   "execution_count": 44,
   "id": "dfbe8964",
   "metadata": {},
   "outputs": [
    {
     "data": {
      "text/plain": [
       "0"
      ]
     },
     "execution_count": 44,
     "metadata": {},
     "output_type": "execute_result"
    }
   ],
   "source": [
    "# 정수형\n",
    "\n",
    "var01 = 123\n",
    "var01 = -17\n",
    "var01 = 0\n",
    "\n",
    "var01"
   ]
  },
  {
   "cell_type": "code",
   "execution_count": 2,
   "id": "cfed3db9",
   "metadata": {},
   "outputs": [
    {
     "data": {
      "text/plain": [
       "-12.34"
      ]
     },
     "execution_count": 2,
     "metadata": {},
     "output_type": "execute_result"
    }
   ],
   "source": [
    "# 실수형\n",
    "var02 = 1.2\n",
    "var02 = -12.34\n",
    "\n",
    "var02"
   ]
  },
  {
   "cell_type": "code",
   "execution_count": 3,
   "id": "203ed705",
   "metadata": {},
   "outputs": [
    {
     "name": "stdout",
     "output_type": "stream",
     "text": [
      "덧셈:  7\n",
      "뺄셈: -1\n",
      "곱셈:  12\n",
      "실수 나눗셈: 0.75\n",
      "정수 나눗셈 몫:  0\n",
      "정수 나눗셈 나머지 : 3\n",
      "제곱:  9\n",
      "제곱: 9\n"
     ]
    }
   ],
   "source": [
    "#연산자\n",
    "\n",
    "var01 = 3\n",
    "var02 = 4\n",
    "\n",
    "print('덧셈: ', var01 + var02)\n",
    "print('뺄셈:', var01 - var02)\n",
    "print('곱셈: ', var01 * var02)\n",
    "print('실수 나눗셈:', var01 / var02)\n",
    "print('정수 나눗셈 몫: ', var01 // var02)\n",
    "print('정수 나눗셈 나머지 :', var01 % var02)\n",
    "print('제곱: ', var01 ** 2)\n",
    "print('제곱:', pow(var01,2))"
   ]
  },
  {
   "cell_type": "markdown",
   "id": "41c7240e",
   "metadata": {},
   "source": [
    "## 파이썬 모듈을 이용한 수학계산\n",
    "------"
   ]
  },
  {
   "cell_type": "code",
   "execution_count": 4,
   "id": "1ad2a392",
   "metadata": {},
   "outputs": [],
   "source": [
    "#수학계산 모듈 불러오기\n",
    "import math"
   ]
  },
  {
   "cell_type": "code",
   "execution_count": 5,
   "id": "74efc3e8",
   "metadata": {},
   "outputs": [
    {
     "data": {
      "text/plain": [
       "9.0"
      ]
     },
     "execution_count": 5,
     "metadata": {},
     "output_type": "execute_result"
    }
   ],
   "source": [
    "#거듭제곱\n",
    "math.pow(var01 ,2)"
   ]
  },
  {
   "cell_type": "code",
   "execution_count": 6,
   "id": "3e71f4ad",
   "metadata": {},
   "outputs": [
    {
     "data": {
      "text/plain": [
       "1.7320508075688772"
      ]
     },
     "execution_count": 6,
     "metadata": {},
     "output_type": "execute_result"
    }
   ],
   "source": [
    "#제곱근\n",
    "math.sqrt(var01)"
   ]
  },
  {
   "cell_type": "code",
   "execution_count": 7,
   "id": "c3757e17",
   "metadata": {},
   "outputs": [
    {
     "data": {
      "text/plain": [
       "0.8509035245341184"
      ]
     },
     "execution_count": 7,
     "metadata": {},
     "output_type": "execute_result"
    }
   ],
   "source": [
    "#sin(45)\n",
    "math.sin(45)"
   ]
  },
  {
   "cell_type": "code",
   "execution_count": 14,
   "id": "e4080111",
   "metadata": {},
   "outputs": [
    {
     "data": {
      "text/plain": [
       "1.0"
      ]
     },
     "execution_count": 14,
     "metadata": {},
     "output_type": "execute_result"
    }
   ],
   "source": [
    "#sin(45)^2 + cos(45)^2\n",
    "a=math.sin(45)\n",
    "b=math.cos(45)\n",
    "math.pow(a,2)+math.pow(b,2)"
   ]
  },
  {
   "cell_type": "markdown",
   "id": "a70895dd",
   "metadata": {},
   "source": [
    "# 난수 발생"
   ]
  },
  {
   "cell_type": "code",
   "execution_count": 15,
   "id": "2c5de162",
   "metadata": {},
   "outputs": [],
   "source": [
    "import random"
   ]
  },
  {
   "cell_type": "code",
   "execution_count": 17,
   "id": "cb1b2112",
   "metadata": {},
   "outputs": [
    {
     "data": {
      "text/plain": [
       "92"
      ]
     },
     "execution_count": 17,
     "metadata": {},
     "output_type": "execute_result"
    }
   ],
   "source": [
    "random.randint(1,100)"
   ]
  },
  {
   "cell_type": "code",
   "execution_count": 18,
   "id": "465b0e59",
   "metadata": {},
   "outputs": [
    {
     "data": {
      "text/plain": [
       "[3, 5, 4]"
      ]
     },
     "execution_count": 18,
     "metadata": {},
     "output_type": "execute_result"
    }
   ],
   "source": [
    "rlist = [1,2,3,4,5]\n",
    "random.sample(rlist, 3)"
   ]
  },
  {
   "cell_type": "code",
   "execution_count": 19,
   "id": "5a10ee5a",
   "metadata": {},
   "outputs": [
    {
     "name": "stdout",
     "output_type": "stream",
     "text": [
      "1\n",
      "2\n",
      "3\n",
      "4\n",
      "5\n",
      "6\n",
      "7\n",
      "8\n",
      "9\n",
      "10\n",
      "11\n",
      "12\n",
      "13\n",
      "14\n",
      "15\n",
      "16\n",
      "17\n",
      "18\n",
      "19\n",
      "20\n",
      "21\n",
      "22\n",
      "23\n",
      "24\n",
      "25\n",
      "26\n",
      "27\n",
      "28\n",
      "29\n",
      "30\n",
      "31\n",
      "32\n",
      "33\n",
      "34\n",
      "35\n",
      "36\n",
      "37\n",
      "38\n",
      "39\n",
      "40\n",
      "41\n",
      "42\n",
      "43\n",
      "44\n",
      "45\n",
      "46\n",
      "47\n",
      "48\n",
      "49\n",
      "50\n",
      "51\n",
      "52\n",
      "53\n",
      "54\n",
      "55\n",
      "56\n",
      "57\n",
      "58\n",
      "59\n",
      "60\n",
      "61\n",
      "62\n",
      "63\n",
      "64\n",
      "65\n",
      "66\n",
      "67\n",
      "68\n",
      "69\n",
      "70\n",
      "71\n",
      "72\n",
      "73\n",
      "74\n",
      "75\n",
      "76\n",
      "77\n",
      "78\n",
      "79\n",
      "80\n",
      "81\n",
      "82\n",
      "83\n",
      "84\n",
      "85\n",
      "86\n",
      "87\n",
      "88\n",
      "89\n",
      "90\n",
      "91\n",
      "92\n",
      "93\n",
      "94\n",
      "95\n",
      "96\n",
      "97\n",
      "98\n",
      "99\n",
      "100\n"
     ]
    }
   ],
   "source": [
    "alist = range(1,101)\n",
    "for i in alist:\n",
    "    print(i)"
   ]
  },
  {
   "cell_type": "code",
   "execution_count": 24,
   "id": "1a96b271",
   "metadata": {},
   "outputs": [
    {
     "data": {
      "text/plain": [
       "[36, 35, 30, 42, 3, 11]"
      ]
     },
     "execution_count": 24,
     "metadata": {},
     "output_type": "execute_result"
    }
   ],
   "source": [
    "#로또 자동번호 생성기\n",
    "blist = range(1,49)\n",
    "random.sample(blist, 6)"
   ]
  },
  {
   "cell_type": "code",
   "execution_count": 40,
   "id": "d3ba293e",
   "metadata": {},
   "outputs": [
    {
     "data": {
      "text/plain": [
       "['In',\n",
       " 'Out',\n",
       " '_',\n",
       " '_1',\n",
       " '_10',\n",
       " '_11',\n",
       " '_12',\n",
       " '_13',\n",
       " '_14',\n",
       " '_16',\n",
       " '_17',\n",
       " '_18',\n",
       " '_2',\n",
       " '_20',\n",
       " '_21',\n",
       " '_22',\n",
       " '_23',\n",
       " '_24',\n",
       " '_27',\n",
       " '_28',\n",
       " '_32',\n",
       " '_33',\n",
       " '_34',\n",
       " '_5',\n",
       " '_6',\n",
       " '_7',\n",
       " '__',\n",
       " '___',\n",
       " '__builtin__',\n",
       " '__builtins__',\n",
       " '__doc__',\n",
       " '__loader__',\n",
       " '__name__',\n",
       " '__package__',\n",
       " '__spec__',\n",
       " '_dh',\n",
       " '_i',\n",
       " '_i1',\n",
       " '_i10',\n",
       " '_i11',\n",
       " '_i12',\n",
       " '_i13',\n",
       " '_i14',\n",
       " '_i15',\n",
       " '_i16',\n",
       " '_i17',\n",
       " '_i18',\n",
       " '_i19',\n",
       " '_i2',\n",
       " '_i20',\n",
       " '_i21',\n",
       " '_i22',\n",
       " '_i23',\n",
       " '_i24',\n",
       " '_i25',\n",
       " '_i26',\n",
       " '_i27',\n",
       " '_i28',\n",
       " '_i29',\n",
       " '_i3',\n",
       " '_i30',\n",
       " '_i31',\n",
       " '_i32',\n",
       " '_i33',\n",
       " '_i34',\n",
       " '_i35',\n",
       " '_i36',\n",
       " '_i37',\n",
       " '_i38',\n",
       " '_i39',\n",
       " '_i4',\n",
       " '_i40',\n",
       " '_i5',\n",
       " '_i6',\n",
       " '_i7',\n",
       " '_i8',\n",
       " '_i9',\n",
       " '_ih',\n",
       " '_ii',\n",
       " '_iii',\n",
       " '_oh',\n",
       " 'a',\n",
       " 'alist',\n",
       " 'b',\n",
       " 'blist',\n",
       " 'exit',\n",
       " 'get_ipython',\n",
       " 'i',\n",
       " 'math',\n",
       " 'num1',\n",
       " 'num2',\n",
       " 'quit',\n",
       " 'random',\n",
       " 'rlist',\n",
       " 'var01',\n",
       " 'var02',\n",
       " 'var03',\n",
       " 'var04']"
      ]
     },
     "execution_count": 40,
     "metadata": {},
     "output_type": "execute_result"
    }
   ],
   "source": [
    "# 메모리에 있는 변수 발생\n",
    "dir()"
   ]
  },
  {
   "cell_type": "code",
   "execution_count": 45,
   "id": "5c558d59",
   "metadata": {},
   "outputs": [],
   "source": [
    "#메모리에 있는 변수 지우기\n",
    "del var01\n",
    "#var01"
   ]
  },
  {
   "cell_type": "markdown",
   "id": "1fc7eb64",
   "metadata": {},
   "source": [
    "# 관계연산자"
   ]
  },
  {
   "cell_type": "code",
   "execution_count": 25,
   "id": "f00fc180",
   "metadata": {},
   "outputs": [],
   "source": [
    "num1 = 100\n",
    "num2 = 20"
   ]
  },
  {
   "cell_type": "code",
   "execution_count": 26,
   "id": "8894f1b6",
   "metadata": {},
   "outputs": [
    {
     "name": "stdout",
     "output_type": "stream",
     "text": [
      "False\n",
      "True\n"
     ]
    }
   ],
   "source": [
    "#동등비교\n",
    "print(num1 == num2)\n",
    "print(num1 != num2)"
   ]
  },
  {
   "cell_type": "code",
   "execution_count": 30,
   "id": "56d9534b",
   "metadata": {},
   "outputs": [
    {
     "name": "stdout",
     "output_type": "stream",
     "text": [
      "True\n",
      "False\n",
      "True\n",
      "False\n"
     ]
    }
   ],
   "source": [
    "#크기비교\n",
    "print(num1 > num2)\n",
    "print(num1 < num2)\n",
    "print(num1 >= num2)\n",
    "print(num1 <= num2)"
   ]
  },
  {
   "cell_type": "markdown",
   "id": "7caf380f",
   "metadata": {},
   "source": [
    "# 논리연산자"
   ]
  },
  {
   "cell_type": "code",
   "execution_count": 31,
   "id": "318c0313",
   "metadata": {},
   "outputs": [
    {
     "name": "stdout",
     "output_type": "stream",
     "text": [
      "False\n",
      "True\n"
     ]
    }
   ],
   "source": [
    "#And, Or\n",
    "print((num1>= 50) & (num2 <= 10))\n",
    "print((num1>=50)|(num2<=10))"
   ]
  },
  {
   "cell_type": "code",
   "execution_count": 33,
   "id": "d4c34bcf",
   "metadata": {},
   "outputs": [
    {
     "data": {
      "text/plain": [
       "False"
      ]
     },
     "execution_count": 33,
     "metadata": {},
     "output_type": "execute_result"
    }
   ],
   "source": [
    "# 부정 연산자\n",
    "not(num1 >= 50)"
   ]
  },
  {
   "cell_type": "markdown",
   "id": "5a767e52",
   "metadata": {},
   "source": [
    "# 문자열 자료형"
   ]
  },
  {
   "cell_type": "code",
   "execution_count": 34,
   "id": "88ee9b35",
   "metadata": {},
   "outputs": [
    {
     "data": {
      "text/plain": [
       "'Hello World'"
      ]
     },
     "execution_count": 34,
     "metadata": {},
     "output_type": "execute_result"
    }
   ],
   "source": [
    "var01 = \"Hello World\"\n",
    "var01"
   ]
  },
  {
   "cell_type": "code",
   "execution_count": 35,
   "id": "da7b70c4",
   "metadata": {},
   "outputs": [
    {
     "name": "stdout",
     "output_type": "stream",
     "text": [
      "\n",
      "        Hello World!\n",
      "        Good to meet you!\n",
      "\n"
     ]
    }
   ],
   "source": [
    "#여러줄의 문자열 출력\n",
    "\n",
    "var01 = \"\"\"\n",
    "        Hello World!\n",
    "        Good to meet you!\n",
    "\"\"\"\n",
    "print(var01)"
   ]
  },
  {
   "cell_type": "code",
   "execution_count": 38,
   "id": "a831faa7",
   "metadata": {},
   "outputs": [
    {
     "name": "stdout",
     "output_type": "stream",
     "text": [
      "My father's wife is my mother.\n",
      "He says \"I love you.\"\n"
     ]
    }
   ],
   "source": [
    "#쌍따옴표와 홑따옴표의 사용\n",
    "var01 = \"My father's wife is my mother.\"\n",
    "var02 = 'He says \"I love you.\"'\n",
    "print(var01)\n",
    "print(var02)"
   ]
  },
  {
   "cell_type": "code",
   "execution_count": 39,
   "id": "178d4aa3",
   "metadata": {},
   "outputs": [
    {
     "name": "stdout",
     "output_type": "stream",
     "text": [
      "aaa\n",
      "bbb\n",
      "aaa\tbbb\n"
     ]
    }
   ],
   "source": [
    "#특수문자를 사용한 출력\n",
    "var03 = 'aaa\\nbbb'\n",
    "var04 = 'aaa\\tbbb'\n",
    "print(var03)\n",
    "print(var04)"
   ]
  },
  {
   "cell_type": "code",
   "execution_count": 46,
   "id": "852c1c03",
   "metadata": {},
   "outputs": [
    {
     "name": "stdout",
     "output_type": "stream",
     "text": [
      "pythonis fun.\n",
      "python is fun.\n"
     ]
    }
   ],
   "source": [
    "#문자열 연산(덧셈)\n",
    "var01 = 'python'\n",
    "var02 = 'is fun.'\n",
    "\n",
    "print(var01 + var02)\n",
    "print(var01, var02)"
   ]
  },
  {
   "cell_type": "code",
   "execution_count": 47,
   "id": "fddfe970",
   "metadata": {},
   "outputs": [
    {
     "name": "stdout",
     "output_type": "stream",
     "text": [
      "pythonpythonpython\n"
     ]
    }
   ],
   "source": [
    "#문자열 곱셈\n",
    "print(var01 * 3)"
   ]
  },
  {
   "cell_type": "code",
   "execution_count": 55,
   "id": "200937ca",
   "metadata": {},
   "outputs": [
    {
     "name": "stdout",
     "output_type": "stream",
     "text": [
      "a\n",
      "abc\n",
      "n\n",
      "fghijklmn\n",
      "abcde\n",
      "fghijkl\n"
     ]
    }
   ],
   "source": [
    "#문자열 indexing과 Slicing\n",
    "str = \"abcdefghijklmn\"\n",
    "print(str[0])\n",
    "print(str[0:3])\n",
    "print(str[-1])\n",
    "print(str[5:])\n",
    "print(str[:5])\n",
    "print(str[5:-2])"
   ]
  },
  {
   "cell_type": "code",
   "execution_count": 48,
   "id": "089f0f42",
   "metadata": {},
   "outputs": [
    {
     "name": "stdout",
     "output_type": "stream",
     "text": [
      "====================\n",
      "python\n",
      "====================\n"
     ]
    }
   ],
   "source": [
    "print(\"=\" * 20)\n",
    "print('python')\n",
    "print(\"=\" * 20)"
   ]
  },
  {
   "cell_type": "code",
   "execution_count": 65,
   "id": "fa940cbc",
   "metadata": {},
   "outputs": [
    {
     "name": "stdout",
     "output_type": "stream",
     "text": [
      "2021-12-31\n",
      "2021-12-31\n"
     ]
    }
   ],
   "source": [
    "#2021-12-31\n",
    "str = \"20211231\"\n",
    "print(str[0:4]+\"-\"+str[4:6]+\"-\"+str[-2]+str[-1])\n",
    "print(str[0:4]+\"-\"+str[4:6]+\"-\"+str[6:8])"
   ]
  },
  {
   "cell_type": "code",
   "execution_count": 67,
   "id": "d5066008",
   "metadata": {},
   "outputs": [
    {
     "name": "stdout",
     "output_type": "stream",
     "text": [
      "202C1231\n"
     ]
    }
   ],
   "source": [
    "#202C1231\n",
    "str = \"20211231\"\n",
    "print(str[0:3]+\"C\"+str[4:8])"
   ]
  },
  {
   "cell_type": "markdown",
   "id": "3b9ca68d",
   "metadata": {},
   "source": [
    "# 문자열 관련 함수"
   ]
  },
  {
   "cell_type": "code",
   "execution_count": 72,
   "id": "f74b989b",
   "metadata": {},
   "outputs": [
    {
     "name": "stdout",
     "output_type": "stream",
     "text": [
      "3\n",
      "15\n"
     ]
    }
   ],
   "source": [
    "#문자 Count\n",
    "str = \"I have a dream.\"\n",
    "print(str.count(\"a\"))\n",
    "print(len(str))"
   ]
  },
  {
   "cell_type": "code",
   "execution_count": 73,
   "id": "031cb56f",
   "metadata": {},
   "outputs": [
    {
     "name": "stdout",
     "output_type": "stream",
     "text": [
      "5\n",
      "-1\n"
     ]
    }
   ],
   "source": [
    "#문자 위치 알려주기\n",
    "print(str.find('e'))\n",
    "print(str.find('x'))"
   ]
  },
  {
   "cell_type": "code",
   "execution_count": 74,
   "id": "d6e2269a",
   "metadata": {},
   "outputs": [
    {
     "data": {
      "text/plain": [
       "'a,b,c,d,e,f,g'"
      ]
     },
     "execution_count": 74,
     "metadata": {},
     "output_type": "execute_result"
    }
   ],
   "source": [
    "#문자열 삽입\n",
    "str = \",\"\n",
    "str.join('abcdefg')"
   ]
  },
  {
   "cell_type": "code",
   "execution_count": 75,
   "id": "95c4a01f",
   "metadata": {},
   "outputs": [
    {
     "data": {
      "text/plain": [
       "'HI'"
      ]
     },
     "execution_count": 75,
     "metadata": {},
     "output_type": "execute_result"
    }
   ],
   "source": [
    "#소문자를 대문자로 변경\n",
    "str = 'hi'\n",
    "str.upper()\n",
    "'hi'.upper()"
   ]
  },
  {
   "cell_type": "code",
   "execution_count": 76,
   "id": "be08b193",
   "metadata": {},
   "outputs": [
    {
     "data": {
      "text/plain": [
       "'hi'"
      ]
     },
     "execution_count": 76,
     "metadata": {},
     "output_type": "execute_result"
    }
   ],
   "source": [
    "#대문자를 소문자로 변경\n",
    "str = 'HI'\n",
    "str.lower()"
   ]
  },
  {
   "cell_type": "code",
   "execution_count": 77,
   "id": "ec618a04",
   "metadata": {},
   "outputs": [
    {
     "data": {
      "text/plain": [
       "'hi'"
      ]
     },
     "execution_count": 77,
     "metadata": {},
     "output_type": "execute_result"
    }
   ],
   "source": [
    "#왼쪽 공백 지우기\n",
    "str = '         hi'\n",
    "str.lstrip()"
   ]
  },
  {
   "cell_type": "code",
   "execution_count": 78,
   "id": "a614eb46",
   "metadata": {},
   "outputs": [
    {
     "data": {
      "text/plain": [
       "'hi'"
      ]
     },
     "execution_count": 78,
     "metadata": {},
     "output_type": "execute_result"
    }
   ],
   "source": [
    "#오른쪽 공백 지우기\n",
    "str = 'hi     '\n",
    "str.rstrip()"
   ]
  },
  {
   "cell_type": "code",
   "execution_count": 79,
   "id": "07b13387",
   "metadata": {},
   "outputs": [
    {
     "data": {
      "text/plain": [
       "'hi'"
      ]
     },
     "execution_count": 79,
     "metadata": {},
     "output_type": "execute_result"
    }
   ],
   "source": [
    "#양쪽 공백 지우기\n",
    "str = '   hi   '\n",
    "str.strip()"
   ]
  },
  {
   "cell_type": "code",
   "execution_count": 80,
   "id": "db4a00cf",
   "metadata": {},
   "outputs": [
    {
     "data": {
      "text/plain": [
       "'Life is short to be unhappy.'"
      ]
     },
     "execution_count": 80,
     "metadata": {},
     "output_type": "execute_result"
    }
   ],
   "source": [
    "#문자열 바꾸기\n",
    "str = 'Life is short to be happy.'\n",
    "str.replace('happy','unhappy')"
   ]
  },
  {
   "cell_type": "code",
   "execution_count": 81,
   "id": "6e7032c8",
   "metadata": {},
   "outputs": [
    {
     "data": {
      "text/plain": [
       "'Life is short to be happy.'"
      ]
     },
     "execution_count": 81,
     "metadata": {},
     "output_type": "execute_result"
    }
   ],
   "source": [
    "#문자열 나누기\n",
    "str"
   ]
  },
  {
   "cell_type": "code",
   "execution_count": 87,
   "id": "c4602fad",
   "metadata": {},
   "outputs": [
    {
     "name": "stdout",
     "output_type": "stream",
     "text": [
      "<class 'list'>\n",
      "['Life', 'is', 'short', 'to', 'be', 'happy.']\n"
     ]
    }
   ],
   "source": [
    "list01 = str.split()\n",
    "print(type(list01))\n",
    "print(list01)"
   ]
  },
  {
   "cell_type": "code",
   "execution_count": 86,
   "id": "5b00a93b",
   "metadata": {},
   "outputs": [
    {
     "name": "stdout",
     "output_type": "stream",
     "text": [
      "<class 'str'>\n"
     ]
    },
    {
     "data": {
      "text/plain": [
       "'2021Life'"
      ]
     },
     "execution_count": 86,
     "metadata": {},
     "output_type": "execute_result"
    }
   ],
   "source": [
    "str01 = '2021-12-31'\n",
    "print(type(str01))\n",
    "str01.split('-')[0]+list01[0]"
   ]
  },
  {
   "cell_type": "markdown",
   "id": "70061f3a",
   "metadata": {},
   "source": [
    "# 날짜형 변환"
   ]
  },
  {
   "cell_type": "code",
   "execution_count": 88,
   "id": "645c0ada",
   "metadata": {},
   "outputs": [],
   "source": [
    " #날짜형 모듈 불러오기\n",
    "from datetime import datetime, timedelta"
   ]
  },
  {
   "cell_type": "code",
   "execution_count": 94,
   "id": "cd9cc757",
   "metadata": {},
   "outputs": [
    {
     "name": "stdout",
     "output_type": "stream",
     "text": [
      "2021-12-31 12:00:00\n"
     ]
    }
   ],
   "source": [
    "time1 = datetime(2021,12,31,12,0,0,0)\n",
    "type(time1)\n",
    "print(time1)"
   ]
  },
  {
   "cell_type": "code",
   "execution_count": 95,
   "id": "5140eda2",
   "metadata": {},
   "outputs": [
    {
     "name": "stdout",
     "output_type": "stream",
     "text": [
      "174 days, 21:13:20.767538\n"
     ]
    }
   ],
   "source": [
    "#날짜 계산하기\n",
    "time2 = datetime.now()\n",
    "print(time1 - time2)"
   ]
  },
  {
   "cell_type": "code",
   "execution_count": 96,
   "id": "d3e012b9",
   "metadata": {},
   "outputs": [
    {
     "name": "stdout",
     "output_type": "stream",
     "text": [
      "두 날짜의 차이는\n",
      "174 일\n"
     ]
    }
   ],
   "source": [
    "# 조금 더 편리한 방법으로 출력\n",
    "print('두 날짜의 차이는')\n",
    "print((time1 - time2).days, \"일\")"
   ]
  },
  {
   "cell_type": "code",
   "execution_count": 100,
   "id": "5badd593",
   "metadata": {},
   "outputs": [
    {
     "name": "stdout",
     "output_type": "stream",
     "text": [
      "현재 시간부터 5일 뒤\n",
      "2021-07-14 14:46:39.232462\n",
      "현재 시간부터 5일 전\n",
      "2021-07-04 14:46:39.232462\n",
      "현재 시간부터 1일 뒤의 2시간 전\n",
      "2021-07-10 12:46:39.232462\n",
      "2021-07-10 12:46:39.232462\n"
     ]
    }
   ],
   "source": [
    "#특정 날짜로 부터 시간 계산\n",
    "print('현재 시간부터 5일 뒤')\n",
    "print(time2 + timedelta(days = 5))\n",
    "print('현재 시간부터 5일 전')\n",
    "print(time2 - timedelta(days = 5))\n",
    "\n",
    "#현재 시간부터 1일뒤의 2시간 전\n",
    "print('현재 시간부터 1일 뒤의 2시간 전')\n",
    "print((time2 + timedelta(days = 1)-timedelta(hours= 2)))\n",
    "print(time2 + timedelta(days = 1,hours= -2))"
   ]
  },
  {
   "cell_type": "code",
   "execution_count": null,
   "id": "3c0230f0",
   "metadata": {},
   "outputs": [],
   "source": []
  }
 ],
 "metadata": {
  "kernelspec": {
   "display_name": "Python 3",
   "language": "python",
   "name": "python3"
  },
  "language_info": {
   "codemirror_mode": {
    "name": "ipython",
    "version": 3
   },
   "file_extension": ".py",
   "mimetype": "text/x-python",
   "name": "python",
   "nbconvert_exporter": "python",
   "pygments_lexer": "ipython3",
   "version": "3.8.8"
  }
 },
 "nbformat": 4,
 "nbformat_minor": 5
}
